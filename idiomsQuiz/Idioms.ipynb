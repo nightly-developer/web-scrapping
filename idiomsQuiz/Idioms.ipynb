{
 "cells": [
  {
   "cell_type": "code",
   "execution_count": 2,
   "metadata": {},
   "outputs": [],
   "source": [
    "import time\n",
    "from tkinter import *"
   ]
  },
  {
   "cell_type": "code",
   "execution_count": 136,
   "metadata": {},
   "outputs": [],
   "source": [
    "root = Tk()\n",
    "root.title('Quiz')\n",
    "width = 1000\n",
    "height = 600\n",
    "root.geometry(str(width)+'x'+str(height))\n",
    "def category():\n",
    "  category = 'common-english-idioms'\n",
    "\n",
    "Button(root,text='common-english-idioms',command=category).pack()"
   ]
  },
  {
   "cell_type": "code",
   "execution_count": null,
   "metadata": {},
   "outputs": [],
   "source": [
    "from bs4 import BeautifulSoup as bs\n",
    "import requests\n",
    "import random\n",
    "def quiz_maker(Q=5):\n",
    "  category = 'common-english-idioms'\n",
    "  website = requests.get(f'https://www.wordscoach.com/idioms?category={category}').text\n",
    "  soup  = bs(website,'lxml')\n",
    "\n",
    "  idioms_list = soup.find_all('div', class_ = 'list-content')\n",
    "  idioms = {}\n",
    "\n",
    "  for idiom in idioms_list:\n",
    "    for index, element in enumerate(idiom.p):\n",
    "      if index == 1:\n",
    "        idioms[idiom.a['title'].strip()] = element.strip()\n",
    "\n",
    "  keys = list(idioms.keys())\n",
    "  dict_values = list(idioms.values())\n",
    "  quiz = {}\n",
    "  for _ in range(Q):\n",
    "    item = random.randrange(len(keys))\n",
    "    options = {}\n",
    "    values = []\n",
    "    answer = idioms[keys[item]]\n",
    "    while len(values) != 3:\n",
    "      value = random.choice(dict_values)\n",
    "      if value != answer:\n",
    "        values.append(value)\n",
    "    values.append(answer)\n",
    "    random.shuffle(values)\n",
    "    for index, letter in enumerate('ABCD'):\n",
    "      options.update({letter:values[index]})\n",
    "    quiz.update({keys[item]:options})\n",
    "    del keys[item]\n",
    "  return quiz\n"
   ]
  },
  {
   "cell_type": "code",
   "execution_count": null,
   "metadata": {},
   "outputs": [],
   "source": [
    "questions = quiz_maker(3)\n",
    "#print(questions)"
   ]
  },
  {
   "cell_type": "code",
   "execution_count": 135,
   "metadata": {},
   "outputs": [],
   "source": [
    "\n",
    "from tkinter import *\n",
    "root = Tk()\n",
    "root.title('Quiz')\n",
    "width = 1000\n",
    "height = 600\n",
    "#root.config()\n",
    "root.geometry(str(width)+'x'+str(height))\n",
    "\n",
    "bg = PhotoImage(file = '/home/lucifer/VS code/web devlopment/web scraping/#273238 solid color.png')\n",
    "# scrollbar = Scrollbar(root)\n",
    "# scrollbar.pack( side = RIGHT, fill = Y )\n",
    "\n",
    "\n",
    "frame3 = LabelFrame(root, bg='gray50',relief = RAISED,width=20, height=500, bd=4).pack(fill = BOTH,side='right')\n",
    "\n",
    "frame1 = LabelFrame(root, bg='#845EC2',relief = RAISED,bd=4)\n",
    "frame1.pack(fill = BOTH, expand = True)\n",
    "\n",
    "\n",
    "frame2 = LabelFrame(root, bg='#D5CABD',relief = RAISED,width=500, height=30, bd=4)\n",
    "frame2.pack(fill = BOTH, expand = True)\n",
    "\n",
    "\n",
    "#Canvas(frame3,bg=\"blue\",width=30).pack(side=LEFT,fill=Y,expand=1)\n",
    "#Label(frame3,text='hey this is third row').place(height=90, width=50)\n",
    "\n",
    "class Display():\n",
    "  #class variables\n",
    "  answers = []\n",
    "\n",
    "  def __init__(self,Qnumber,options) -> None:\n",
    "    self.Qnumber = Qnumber\n",
    "    self.options = options\n",
    "    self.answer = StringVar()\n",
    "\n",
    "    def call():\n",
    "      #print((self.answer).get())\n",
    "      Display.answers[int((Qnumber-1)/4)] = (self.answer).get()\n",
    "\n",
    "    for Onumber, option in enumerate(options,start=1):\n",
    "      #display options\n",
    "      if Onumber < 3:\n",
    "        Radiobutton(frame1, text=options[option],variable=self.answer,value =option,wraplength=450,justify=LEFT,command=call,bg='#4E8397',borderwidth=5,padx=3).grid(row=self.Qnumber+1,column=(Onumber+1)%2,sticky=W,padx=10,pady=5)\n",
    "      else:\n",
    "        Radiobutton(frame1, text=options[option],variable=self.answer,value =option,wraplength=450,justify=LEFT,command=call,bg='#4E8397',borderwidth=5,padx=3).grid(row=self.Qnumber+2,column=(Onumber+1)%2,sticky=W,padx=10,pady=5)\n",
    "    \n",
    "\n",
    "def score():\n",
    "  print(Display.answers)\n",
    "  root.destroy()\n",
    "\n",
    "\n",
    "for Qnumber, (question,options) in enumerate(questions.items()):\n",
    "  Qnumber = Qnumber*4+1\n",
    "  Display.answers.append(None)\n",
    "  Label(frame1,text=question).grid(row=Qnumber,column=0,sticky=W,padx=10,pady=5)\n",
    "  Display(Qnumber,options)\n",
    "  Label(frame1,bg='#845EC2').grid(row=Qnumber+3,columnspan=2)\n",
    "\n",
    "Button(frame2,text='previous').place(relx=0.03,rely=0.5)\n",
    "Button(frame2,text='submit',command=score).place(relx=0.45,rely=0.5)\n",
    "Button(frame2,text='next').place(relx=0.91,rely=0.5)\n",
    "\n",
    "\n",
    "\n",
    "root.mainloop()\n"
   ]
  },
  {
   "cell_type": "markdown",
   "metadata": {},
   "source": [
    "####################################################################"
   ]
  },
  {
   "cell_type": "code",
   "execution_count": 22,
   "metadata": {},
   "outputs": [
    {
     "name": "stdout",
     "output_type": "stream",
     "text": [
      "[None]\n"
     ]
    }
   ],
   "source": [
    "from tkinter import *\n",
    "  \n",
    "def display():\n",
    "  answers = [None]\n",
    "  root = Tk()\n",
    "  root.title('Quiz')\n",
    "  root.geometry('800x500')\n",
    "  questions = quiz_maker()\n",
    "\n",
    "  answers = [None]\n",
    "  answer = StringVar()\n",
    "  def storing_option():\n",
    "    print(int((Qnumber-1)/7))\n",
    "    answers.append(None)\n",
    "\n",
    "  for Qnumber, (question,options) in enumerate(questions.items()):\n",
    "    Qnumber = Qnumber*7+1\n",
    "    Label(root,text=question).grid(row=Qnumber,column=0,sticky='w')\n",
    "# \n",
    "\n",
    "    for Onumber, option in enumerate(options,start=1):\n",
    "      #display options\n",
    "      if Onumber < 3:\n",
    "        Radiobutton(root, text=options[option],variable=answer,value =option,command=storing_option).grid(row=Qnumber+1,column=(Onumber+1)%2,sticky='w')\n",
    "      else:\n",
    "        Radiobutton(root, text=options[option],variable=answer,value = Onumber,command=storing_option).grid(row=Qnumber+2,column=(Onumber+1)%2,sticky='w')\n",
    "\n",
    "    #Button(root,text='submit',command=storing_option).grid(row=Qnumber+2,column=2)\n",
    "    Label(root).grid(row=Qnumber+3)\n",
    "\n",
    "  root.mainloop()\n",
    "\n",
    "  print(answers)\n",
    "\n",
    "display()\n",
    "\n"
   ]
  },
  {
   "cell_type": "code",
   "execution_count": 288,
   "metadata": {},
   "outputs": [
    {
     "name": "stdout",
     "output_type": "stream",
     "text": [
      "[None]\n",
      "[None, None]\n"
     ]
    }
   ],
   "source": [
    "answers = [None]\n",
    "print(answers)\n",
    "answers.append(None)\n",
    "print(answers)"
   ]
  },
  {
   "cell_type": "code",
   "execution_count": null,
   "metadata": {},
   "outputs": [],
   "source": [
    "#comparing the input with answer\n",
    "score = 0\n",
    "for index, question in enumerate(questions):\n",
    "  try:\n",
    "    if questions[question][selection[index]] == idioms[question]:\n",
    "      score += 1\n",
    "  except:\n",
    "    print(f\"For Q{index+1} invalid option Entered!\")\n",
    "print(f\"You got {score} out of {len(questions)}\")"
   ]
  },
  {
   "cell_type": "code",
   "execution_count": 282,
   "metadata": {},
   "outputs": [
    {
     "name": "stdout",
     "output_type": "stream",
     "text": [
      "score of randrange is: 39325\n",
      "score of choise is: 1\n"
     ]
    }
   ],
   "source": [
    "def choice():\n",
    "  tic = time.time()\n",
    "  keys = list(idioms.keys())\n",
    "  for _ in range(5):\n",
    "    item = random.choice(keys)\n",
    "    output = f'{item} : {idioms[item]}'\n",
    "  toc = time.time()\n",
    "  return (toc - tic)*10000\n",
    "\n",
    "def randrange():\n",
    "  tic = time.time()\n",
    "  keys = list(idioms.keys())\n",
    "  for _ in range(5):\n",
    "    item = random.randrange(len(keys))\n",
    "    output = f'{keys[item]} : {idioms[keys[item]]}'\n",
    "  toc = time.time()\n",
    "  return (toc - tic)*10000\n",
    "randrange_score = 0\n",
    "choice_score = 0\n",
    "\n",
    "for _ in range(1000000):\n",
    "  randrange_time = randrange()\n",
    "  choice_time = choice()\n",
    "  if randrange_time < choice_time:\n",
    "    randrange_score += 1\n",
    "  elif choice_time < randrange_time:\n",
    "    choice_score =+ 1\n",
    "  else:\n",
    "    #print(\"took same time\")\n",
    "    pass\n",
    "print(f\"score of randrange is: {randrange_score}\\nscore of choise is: {choice_score}\")"
   ]
  },
  {
   "cell_type": "code",
   "execution_count": 355,
   "metadata": {},
   "outputs": [],
   "source": [
    "def full_name(first_name,last_name):\n",
    "  string = 'Name: '\n",
    "  if first_name != '' and last_name != '':\n",
    "    return string + last_name + ', ' + first_name\n",
    "  elif last_name != '' and first_name == '':\n",
    "    return string + last_name\n",
    "  elif first_name != '' and last_name == '':\n",
    "    return string + first_name\n",
    "  else: \n",
    "    return string"
   ]
  }
 ],
 "metadata": {
  "interpreter": {
   "hash": "916dbcbb3f70747c44a77c7bcd40155683ae19c65e1c03b4aa3499c5328201f1"
  },
  "kernelspec": {
   "display_name": "Python 3.8.10 64-bit",
   "language": "python",
   "name": "python3"
  },
  "language_info": {
   "codemirror_mode": {
    "name": "ipython",
    "version": 3
   },
   "file_extension": ".py",
   "mimetype": "text/x-python",
   "name": "python",
   "nbconvert_exporter": "python",
   "pygments_lexer": "ipython3",
   "version": "3.10.6"
  },
  "orig_nbformat": 4
 },
 "nbformat": 4,
 "nbformat_minor": 2
}
