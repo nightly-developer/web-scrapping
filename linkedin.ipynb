{
 "cells": [
  {
   "cell_type": "code",
   "execution_count": 37,
   "metadata": {},
   "outputs": [],
   "source": [
    "#importing necessary libraries\n",
    "from selenium import webdriver\n",
    "from selenium.webdriver.common.by import By\n",
    "import time\n",
    "# download browser driver for you browser\n",
    "# search driver for your browser. I am using chrome "
   ]
  },
  {
   "cell_type": "code",
   "execution_count": 38,
   "metadata": {},
   "outputs": [],
   "source": [
    "# this is headless driver\n",
    "# this is fater way to scrap since it does not need to make changes in gui \n",
    "op = webdriver.ChromeOptions()\n",
    "op.add_argument('headless')\n",
    "driver = webdriver.Chrome(options=op)\n",
    "driver.get('https://www.linkedin.com/jobs/search?keywords=Back%20End%20Developer&location=india&geoId=&trk=public_jobs_jobs-search-bar_search-submit&position=1&pageNum=0')"
   ]
  },
  {
   "cell_type": "code",
   "execution_count": 39,
   "metadata": {},
   "outputs": [],
   "source": [
    "driver.close()"
   ]
  },
  {
   "cell_type": "code",
   "execution_count": 45,
   "metadata": {},
   "outputs": [],
   "source": [
    "# this will open browser window \n",
    "# use only during testing \n",
    "driver = webdriver.Chrome()\n",
    "\n",
    "# this link redirects to search result page of backend web devloper on linkedin\n",
    "#driver.get(url='https://www.linkedin.com/jobs/search?keywords=Back%20End%20Developer&location=india&geoId=&trk=public_jobs_jobs-search-bar_search-submit&position=1&pageNum=0')\n",
    "driver.get(url='https://www.linkedin.com/jobs/search?keywords=software%20testing&location=India&geoId=102713980&trk=public_jobs_jobs-search-bar_search-submit&position=1&pageNum=0')"
   ]
  },
  {
   "attachments": {},
   "cell_type": "markdown",
   "metadata": {},
   "source": [
    "1. scroll till reach search_limit use\\\n",
    "if reach end of the page use \\\n",
    "driver.execute_script(\"window.scrollTo(0, document.body.scrollHeight);\") \\\n",
    "if 'see more job' shows use \\\n",
    "driver.find_element(By.XPATH,'//*[@id=\"main-content\"]/section[2]/button').click() \\\n",
    "2. will make a list of all the jobs links \\\n",
    "3. visit all the jobs using for loop "
   ]
  },
  {
   "cell_type": "code",
   "execution_count": 46,
   "metadata": {},
   "outputs": [
    {
     "data": {
      "text/plain": [
       "741"
      ]
     },
     "execution_count": 46,
     "metadata": {},
     "output_type": "execute_result"
    }
   ],
   "source": [
    "#this is not very helpful\n",
    "#this gives number of \"new jobs\"\n",
    "search_limit = driver.find_element(By.CLASS_NAME,'results-context-header__new-jobs').text\n",
    "import re\n",
    "search_limit = int(''.join(re.findall('\\d',search_limit)))\n",
    "search_limit #if you want only new jobs "
   ]
  },
  {
   "cell_type": "code",
   "execution_count": null,
   "metadata": {},
   "outputs": [],
   "source": [
    "#job elements Xpath pattern\n",
    "#job 1 Xpath: //*[@id=\"main-content\"]/section[2]/ul/li[1]/div/a\n",
    "#job 2 Xpath: //*[@id=\"main-content\"]/section[2]/ul/li[2]/div/a\n",
    "\n",
    "#creating empty job list\n",
    "job_list = []\n",
    "\n",
    "for job in range(1,200+1): #range is strating from 1\n",
    "\n",
    "  try: # try to find base card element and append it's link to job_list \n",
    "    job_list.append(driver.find_element(By.XPATH,f'//*[@id=\"main-content\"]/section[2]/ul/li[{job}]/div/a').get_attribute('href'))\n",
    "\n",
    "  except: # if element is not found scroll down\n",
    "    #print(\"job not found\",job)\n",
    "    \n",
    "    driver.execute_script(\"window.scrollTo(0, document.body.scrollHeight);\")\n",
    "    time.sleep(4) # waiting for scroll down \n",
    "    \n",
    "    try : # try again to find failed job\n",
    "      #print(\"getting failed job\",job)\n",
    "      job_list.append(driver.find_element(By.XPATH,f'//*[@id=\"main-content\"]/section[2]/ul/li[{job}]/div/a').get_attribute('href'))\n",
    "    \n",
    "    except : # if job not found click on 'see more' button\n",
    "      driver.find_element(By.CLASS_NAME,'infinite-scroller__show-more-button--visible').click()\n",
    "      #print(\"clicked show more button at\",job)\n",
    "      \n",
    "      time.sleep(7) #waiting for more resutls to load\n",
    "      #print(\"sleeping\")\n",
    "\n",
    "      # try again to find that job and append it to job_list\n",
    "      job_list.append(driver.find_element(By.XPATH,f'//*[@id=\"main-content\"]/section[2]/ul/li[{job}]/div/a').get_attribute('href'))\n",
    "    \n",
    "    # keeping track of found job's link\n",
    "  #if len(job_list) % 100 == 0:\n",
    "    #print(\"length of job list is: \",len(job_list))"
   ]
  },
  {
   "cell_type": "code",
   "execution_count": 49,
   "metadata": {},
   "outputs": [
    {
     "data": {
      "text/plain": [
       "25"
      ]
     },
     "execution_count": 49,
     "metadata": {},
     "output_type": "execute_result"
    }
   ],
   "source": [
    "len(job_list)"
   ]
  },
  {
   "cell_type": "code",
   "execution_count": 35,
   "metadata": {},
   "outputs": [],
   "source": [
    "##########Writing to linkedin_result.txt file########\\\n",
    "with open('linkedin_result.txt') as file:\n",
    "  for item in job_list:\n",
    "      # write each item on a new line\n",
    "      file.write(\"%s\\n\" % item)"
   ]
  },
  {
   "cell_type": "code",
   "execution_count": 48,
   "metadata": {},
   "outputs": [],
   "source": [
    "driver.close()"
   ]
  },
  {
   "attachments": {},
   "cell_type": "markdown",
   "metadata": {},
   "source": [
    "############################## COLLECTING JOB INFO ########### "
   ]
  },
  {
   "attachments": {},
   "cell_type": "markdown",
   "metadata": {},
   "source": [
    "things to collect\n",
    "1. job Roll\n",
    "1. company's name\n",
    "2. address\n",
    "3. time\n",
    "4. responsibilities\n",
    "5. requirements\n",
    "6. seniority level\n",
    "7. rmployment type\n",
    "8. job function\n",
    "9. industries"
   ]
  },
  {
   "cell_type": "code",
   "execution_count": 50,
   "metadata": {},
   "outputs": [],
   "source": [
    "rf = open('linkedin_result.txt','r')"
   ]
  },
  {
   "cell_type": "code",
   "execution_count": 57,
   "metadata": {},
   "outputs": [
    {
     "name": "stdout",
     "output_type": "stream",
     "text": [
      "https://in.linkedin.com/jobs/view/back-end-engineer-at-arbolus-3408037925?refId=Deo1FldNq5eT3UEpmaISoA%3D%3D&trackingId=tWO%2Fp6bi81j8Z9kTWNPnhA%3D%3D&position=4&pageNum=0&trk=public_jobs_jserp-result_search-card\n",
      "\n"
     ]
    }
   ],
   "source": [
    "print(rf.readline())"
   ]
  },
  {
   "cell_type": "code",
   "execution_count": 121,
   "metadata": {},
   "outputs": [],
   "source": [
    "url = 'https://in.linkedin.com/jobs/view/back-end-engineer-at-arbolus-3408037925?refId=Deo1FldNq5eT3UEpmaISoA%3D%3D&trackingId=tWO%2Fp6bi81j8Z9kTWNPnhA%3D%3D&position=4&pageNum=0&trk=public_jobs_jserp-result_search-card'"
   ]
  },
  {
   "cell_type": "code",
   "execution_count": 122,
   "metadata": {},
   "outputs": [],
   "source": [
    "op = webdriver.ChromeOptions()\n",
    "op.add_argument('headless')\n",
    "driver = webdriver.Chrome(options=op)\n",
    "driver.get(url)"
   ]
  },
  {
   "cell_type": "code",
   "execution_count": 124,
   "metadata": {},
   "outputs": [
    {
     "name": "stdout",
     "output_type": "stream",
     "text": [
      "About The Role\n",
      "Bachelor's degree in Computer Science or a related field is preferred\n",
      "3- 6 years of experience\n",
      "Strong fundamentals in object-oriented languages like .Net\n",
      "Exposure to SQL Databases (PostgreSQL)\n",
      "Familiarity with git (GitHub) and version control best practices\n",
      "Knowledge of common engineering tools and applications\n",
      "Passionate about building high-quality software\n",
      "Professional English\n",
      "Understanding of engineering fundamentals: unit testing (xUnit), code reviews, and RESTful APIs\n",
      "Experience with Machine Learning techniques and best practices\n",
      "Experience with Continuous Integration and Continuous Delivery systems (GitHub Actions, Jenkins, Travis or similar tools)\n",
      "Familiarity and experience with Agile methodologies\n",
      "Experience with cloud platforms such as AWS\n",
      "Competitive Base Pay + Bonus\n",
      "Global work environment with teams in London, Barcelona and New York; travel opportunities to Barcelona\n",
      "Regular Hackathons\n",
      "Comprehensive Life & Healthcare benefits\n",
      "Annual Retreats and Regular Socials\n",
      "Seniority level\n",
      "Mid-Senior level\n",
      "Employment type\n",
      "Full-time\n",
      "Job function\n",
      "Engineering and Information Technology\n",
      "Industries\n",
      "Internet Publishing\n",
      "About Arbolus\n",
      "Bachelor's degree in Computer Science or a related field is preferred\n",
      "3- 6 years of experience\n",
      "Strong fundamentals in object-oriented languages like .Net\n",
      "Exposure to SQL Databases (PostgreSQL)\n",
      "Familiarity with git (GitHub) and version control best practices\n",
      "Knowledge of common engineering tools and applications\n",
      "Passionate about building high-quality software\n",
      "Professional English\n",
      "Understanding of engineering fundamentals: unit testing (xUnit), code reviews, and RESTful APIs\n",
      "Experience with Machine Learning techniques and best practices\n",
      "Experience with Continuous Integration and Continuous Delivery systems (GitHub Actions, Jenkins, Travis or similar tools)\n",
      "Familiarity and experience with Agile methodologies\n",
      "Experience with cloud platforms such as AWS\n",
      "Competitive Base Pay + Bonus\n",
      "Global work environment with teams in London, Barcelona and New York; travel opportunities to Barcelona\n",
      "Regular Hackathons\n",
      "Comprehensive Life & Healthcare benefits\n",
      "Annual Retreats and Regular Socials\n",
      "Seniority level\n",
      "Mid-Senior level\n",
      "Employment type\n",
      "Full-time\n",
      "Job function\n",
      "Engineering and Information Technology\n",
      "Industries\n",
      "Internet Publishing\n"
     ]
    }
   ],
   "source": [
    "#finding job card with xpath\n",
    "card = driver.find_element(By.XPATH,'//*[@id=\"main-content\"]/section[1]/div/section[2]/div')\n",
    "#print(card.text)\n",
    "\n",
    "#Click 'show more' button if exist\n",
    "try:\n",
    "  driver.find_element(By.CLASS_NAME,'show-more-less-html__button').click()\n",
    "except:\n",
    "  pass\n",
    "  #print(\"There is no 'show more button'\")\n",
    "\n",
    "#finding all strong text elements like job duties, qualifications, etc.\n",
    "#will get a list of strong elements\n",
    "strong_elements = (driver.find_element(By.CLASS_NAME,'core-section-container__content').find_elements(By.CSS_SELECTOR,'strong'))\n",
    "\n",
    "#iterating over all the contents of strong elements\n",
    "for i in range(len(strong_elements)):\n",
    "  #printing strong element\n",
    "  print(strong_elements[i].text)\n",
    "\n",
    "  #finding all the content of stong element's list\n",
    "  #will get content in list form\n",
    "  unorder_lists = (driver.find_element(By.CLASS_NAME,'core-section-container__content').find_elements(By.CSS_SELECTOR,'ul'))\n",
    "\n",
    "  #iterating over content of list\n",
    "  for i in range(1,len(unorder_lists)):\n",
    "    #printing content of list\n",
    "    print(unorder_lists[i].text)\n",
    "    #pass\n",
    "\n",
    "\n"
   ]
  },
  {
   "cell_type": "code",
   "execution_count": null,
   "metadata": {},
   "outputs": [],
   "source": [
    "driver.close()"
   ]
  },
  {
   "attachments": {},
   "cell_type": "markdown",
   "metadata": {},
   "source": [
    "######################## Testing #######################"
   ]
  },
  {
   "cell_type": "code",
   "execution_count": 226,
   "metadata": {},
   "outputs": [
    {
     "name": "stdout",
     "output_type": "stream",
     "text": [
      "Back End Developer\n",
      "Groww, India Bangalore Urban, Karnataka, India\n",
      "2 weeks ago Over 200 applicants\n",
      "See who Groww, India has hired for this role\n",
      "Apply\n",
      "Save\n"
     ]
    }
   ],
   "source": [
    "card = driver.find_element(By.XPATH,'//*[@id=\"main-content\"]/section[1]/div/section[2]/div')\n",
    "\n",
    "print(card.text)"
   ]
  },
  {
   "cell_type": "code",
   "execution_count": 227,
   "metadata": {},
   "outputs": [],
   "source": [
    "#Click 'show more' button if exist\n",
    "try:\n",
    "  driver.find_element(By.CLASS_NAME,'show-more-less-html__button').click()\n",
    "except:\n",
    "  print(\"There is no show more button\")\n"
   ]
  },
  {
   "cell_type": "code",
   "execution_count": 228,
   "metadata": {},
   "outputs": [
    {
     "name": "stdout",
     "output_type": "stream",
     "text": [
      "COMPANY VISION\n",
      "About Groww\n",
      "OUR VALUES\n",
      "Development Responsibilities:\n",
      "Requirements :\n"
     ]
    }
   ],
   "source": [
    "strong_elements = (driver.find_element(By.CLASS_NAME,'core-section-container__content').find_elements(By.CSS_SELECTOR,'strong'))\n",
    "for i in range(len(strong_elements)):\n",
    "  print(strong_elements[i].text)\n",
    "  "
   ]
  },
  {
   "cell_type": "code",
   "execution_count": 229,
   "metadata": {},
   "outputs": [
    {
     "name": "stdout",
     "output_type": "stream",
     "text": [
      "The Software Development Engineer's core responsibilities include working on highly maintainable and unit tested software components/systems that address real world problems.\n",
      "Experienced on microservices based architecture, can work on cloud infrastructures like GCP, AWS etc.\n",
      "Should take the e2e ownership of product/feature right from design, code and deployment.\n",
      "Ensure quality at every level be it problem solving, design, code or bug fixes.\n",
      "Should be able to collaborate with product managers, architects and other stakeholders to ensure smooth execution of sprints.\n",
      "Own and unblock users on production issues, able to troubleshoot and fix production issues on priority.\n",
      "Can mentor and help other team members and ensure that overall productivity of the team is high.\n"
     ]
    }
   ],
   "source": [
    "unorder_lists = (driver.find_element(By.CLASS_NAME,'core-section-container__content').find_elements(By.CSS_SELECTOR,'ul'))\n",
    "for i in range(1,len(unorder_lists)):\n",
    "  print(unorder_lists[i].text)\n",
    "  break"
   ]
  },
  {
   "cell_type": "code",
   "execution_count": null,
   "metadata": {},
   "outputs": [],
   "source": []
  }
 ],
 "metadata": {
  "kernelspec": {
   "display_name": "Python 3",
   "language": "python",
   "name": "python3"
  },
  "language_info": {
   "codemirror_mode": {
    "name": "ipython",
    "version": 3
   },
   "file_extension": ".py",
   "mimetype": "text/x-python",
   "name": "python",
   "nbconvert_exporter": "python",
   "pygments_lexer": "ipython3",
   "version": "3.10.6"
  },
  "orig_nbformat": 4,
  "vscode": {
   "interpreter": {
    "hash": "916dbcbb3f70747c44a77c7bcd40155683ae19c65e1c03b4aa3499c5328201f1"
   }
  }
 },
 "nbformat": 4,
 "nbformat_minor": 2
}
